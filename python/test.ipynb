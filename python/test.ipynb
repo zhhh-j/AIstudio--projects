{
 "cells": [
  {
   "cell_type": "code",
   "execution_count": null,
   "metadata": {},
   "outputs": [],
   "source": [
    "import numpy as np\n",
    "y = np.random.randn(3, 4)\n",
    "t = np.random.randn(3)\n",
    "y, t"
   ]
  }
 ],
 "metadata": {
  "kernelspec": {
   "display_name": "Python 3.10.6 ('dl')",
   "language": "python",
   "name": "python3"
  },
  "language_info": {
   "name": "python",
   "version": "3.10.6"
  },
  "orig_nbformat": 4,
  "vscode": {
   "interpreter": {
    "hash": "825a4c8884c616f842b351c66051ac16e7081b3af1c70fddc74b818f3744b969"
   }
  }
 },
 "nbformat": 4,
 "nbformat_minor": 2
}

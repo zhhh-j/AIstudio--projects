{
 "cells": [
  {
   "cell_type": "code",
   "execution_count": 4,
   "metadata": {},
   "outputs": [
    {
     "data": {
      "text/plain": [
       "Index(['Stkcd', 'Accper', 'Typrep', 'A001101000', 'A0d1101101', 'A0d1102000',\n",
       "       'A0d1102101', 'A0b1103000', 'A0b1104000', 'A0b1105000', 'A0f1106000',\n",
       "       'A001107000', 'A0f1108000', 'A001109000', 'A001110000'],\n",
       "      dtype='object')"
      ]
     },
     "execution_count": 4,
     "metadata": {},
     "output_type": "execute_result"
    }
   ],
   "source": [
    "import pandas as pd\n",
    "import numpy as np\n",
    "import matplotlib.pyplot as plt\n",
    "data = pd.read_csv('C:/Users/赵豪杰/Desktop/lw/data/资产负债表160133267/FS_Combas.csv', error_bad_lines=False)\n",
    "data.columns[:15]"
   ]
  },
  {
   "cell_type": "code",
   "execution_count": 9,
   "metadata": {},
   "outputs": [],
   "source": [
    "data['Accper'] = data['Accper'].map(lambda x: pd.to_datetime(x).year)"
   ]
  },
  {
   "cell_type": "code",
   "execution_count": 13,
   "metadata": {},
   "outputs": [],
   "source": [
    "data = data[(data['Accper'] > 2010) & (data['Accper'] < 2020)]"
   ]
  }
 ],
 "metadata": {
  "kernelspec": {
   "display_name": "Python 3.7.0 64-bit (system)",
   "language": "python",
   "name": "python3"
  },
  "language_info": {
   "codemirror_mode": {
    "name": "ipython",
    "version": 3
   },
   "file_extension": ".py",
   "mimetype": "text/x-python",
   "name": "python",
   "nbconvert_exporter": "python",
   "pygments_lexer": "ipython3",
   "version": "3.7.0"
  },
  "orig_nbformat": 4,
  "vscode": {
   "interpreter": {
    "hash": "58755db9cd52609d476253c23da992f5ae87e7196dc9004e57ea390e09bbc3ec"
   }
  }
 },
 "nbformat": 4,
 "nbformat_minor": 2
}

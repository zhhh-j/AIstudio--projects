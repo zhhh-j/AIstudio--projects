{
 "cells": [
  {
   "cell_type": "code",
   "execution_count": 1,
   "metadata": {},
   "outputs": [
    {
     "name": "stderr",
     "output_type": "stream",
     "text": [
      "b'Skipping line 32: expected 21 fields, saw 24\\nSkipping line 78: expected 21 fields, saw 65\\nSkipping line 239: expected 21 fields, saw 43\\nSkipping line 337: expected 21 fields, saw 28\\nSkipping line 341: expected 21 fields, saw 26\\nSkipping line 380: expected 21 fields, saw 25\\nSkipping line 438: expected 21 fields, saw 38\\nSkipping line 959: expected 21 fields, saw 26\\nSkipping line 1426: expected 21 fields, saw 23\\nSkipping line 1543: expected 21 fields, saw 23\\nSkipping line 1746: expected 21 fields, saw 23\\nSkipping line 2087: expected 21 fields, saw 26\\nSkipping line 2325: expected 21 fields, saw 92\\nSkipping line 2649: expected 21 fields, saw 22\\nSkipping line 3858: expected 21 fields, saw 47\\nSkipping line 5263: expected 21 fields, saw 36\\nSkipping line 5544: expected 21 fields, saw 25\\nSkipping line 6390: expected 21 fields, saw 28\\nSkipping line 6725: expected 21 fields, saw 32\\nSkipping line 6975: expected 21 fields, saw 64\\nSkipping line 7256: expected 21 fields, saw 29\\nSkipping line 7738: expected 21 fields, saw 52\\nSkipping line 8327: expected 21 fields, saw 33\\nSkipping line 8388: expected 21 fields, saw 25\\nSkipping line 8794: expected 21 fields, saw 27\\nSkipping line 9642: expected 21 fields, saw 31\\nSkipping line 9975: expected 21 fields, saw 26\\nSkipping line 10420: expected 21 fields, saw 29\\nSkipping line 10528: expected 21 fields, saw 28\\nSkipping line 10538: expected 21 fields, saw 22\\nSkipping line 10548: expected 21 fields, saw 29\\nSkipping line 10618: expected 21 fields, saw 26\\nSkipping line 10750: expected 21 fields, saw 49\\nSkipping line 10751: expected 21 fields, saw 48\\nSkipping line 11597: expected 21 fields, saw 26\\nSkipping line 11873: expected 21 fields, saw 42\\nSkipping line 12351: expected 21 fields, saw 43\\nSkipping line 12445: expected 21 fields, saw 23\\nSkipping line 12776: expected 21 fields, saw 28\\nSkipping line 12779: expected 21 fields, saw 138\\nSkipping line 13456: expected 21 fields, saw 38\\nSkipping line 14513: expected 21 fields, saw 29\\nSkipping line 15298: expected 21 fields, saw 34\\n'\n"
     ]
    }
   ],
   "source": [
    "import pandas as pd\n",
    "import numpy as np\n",
    "import matplotlib.pyplot as plt\n",
    "data = pd.read_csv(r'C:/Users/赵豪杰/Desktop/lw/data/违规信息总表162458463/STK_Violation_Main.csv', error_bad_lines=False)\n",
    "data = data[~data['ViolationType'].isna()]"
   ]
  },
  {
   "cell_type": "code",
   "execution_count": 6,
   "metadata": {},
   "outputs": [
    {
     "data": {
      "text/plain": [
       "<BarContainer object of 431 artists>"
      ]
     },
     "execution_count": 6,
     "metadata": {},
     "output_type": "execute_result"
    },
    {
     "data": {
      "image/png": "[encoded data removed]",
      "text/plain": [
       "<Figure size 432x288 with 1 Axes>"
      ]
     },
     "metadata": {
      "needs_background": "light"
     },
     "output_type": "display_data"
    }
   ],
   "source": [
    "keep_name = ['ViolationID', 'ViolationType', 'ViolationTypeID', 'ViolationYear', 'DeclareDate']\n",
    "group1 = data.groupby('ViolationTypeID')\n",
    "group1.count()['ViolationID']\n",
    "# # 按造假类型统计的条形图\n",
    "plt.bar(group1.count()['ViolationID'].index, group1.count()['ViolationID'])"
   ]
  },
  {
   "cell_type": "code",
   "execution_count": 8,
   "metadata": {},
   "outputs": [
    {
     "data": {
      "text/plain": [
       "<BarContainer object of 2969 artists>"
      ]
     },
     "execution_count": 8,
     "metadata": {},
     "output_type": "execute_result"
    },
    {
     "data": {
      "image/png": "[encoded data removed]",
      "text/plain": [
       "<Figure size 432x288 with 1 Axes>"
      ]
     },
     "metadata": {
      "needs_background": "light"
     },
     "output_type": "display_data"
    }
   ],
   "source": [
    "data['fraud'] = 1\n",
    "group2 = data.groupby('Symbol')\n",
    "group2.count()['ViolationID']\n",
    "# 按公司ID统计公司违规处理次数条形图\n",
    "plt.bar(group2.count()['ViolationID'].index, group2.count()['ViolationID'])"
   ]
  },
  {
   "cell_type": "code",
   "execution_count": 13,
   "metadata": {},
   "outputs": [],
   "source": [
    "type_list = ['P2501','P2502','P2503','P2504','P2505', 'P2506']\n",
    "data_fraud = data[data['ViolationTypeID'].isin(type_list)]\n",
    "data_fraud = data_fraud[~data_fraud['ViolationYear'].isna()][['Symbol', 'ViolationYear', 'DeclareDate', 'fraud']]"
   ]
  },
  {
   "cell_type": "code",
   "execution_count": 14,
   "metadata": {},
   "outputs": [
    {
     "data": {
      "text/html": [
       "<div>\n",
       "<style scoped>\n",
       "    .dataframe tbody tr th:only-of-type {\n",
       "        vertical-align: middle;\n",
       "    }\n",
       "\n",
       "    .dataframe tbody tr th {\n",
       "        vertical-align: top;\n",
       "    }\n",
       "\n",
       "    .dataframe thead th {\n",
       "        text-align: right;\n",
       "    }\n",
       "</style>\n",
       "<table border=\"1\" class=\"dataframe\">\n",
       "  <thead>\n",
       "    <tr style=\"text-align: right;\">\n",
       "      <th></th>\n",
       "      <th>Symbol</th>\n",
       "      <th>ViolationYear</th>\n",
       "      <th>DeclareDate</th>\n",
       "      <th>fraud</th>\n",
       "    </tr>\n",
       "  </thead>\n",
       "  <tbody>\n",
       "  </tbody>\n",
       "</table>\n",
       "</div>"
      ],
      "text/plain": [
       "Empty DataFrame\n",
       "Columns: [Symbol, ViolationYear, DeclareDate, fraud]\n",
       "Index: []"
      ]
     },
     "execution_count": 14,
     "metadata": {},
     "output_type": "execute_result"
    },
    {
     "data": {
      "image/png": "[encoded data removed]",
      "text/plain": [
       "<Figure size 432x288 with 1 Axes>"
      ]
     },
     "metadata": {
      "needs_background": "light"
     },
     "output_type": "display_data"
    }
   ],
   "source": [
    "# 按行分割多个日期组合\n",
    "data_fraud['ViolationYear'] = data_fraud['ViolationYear'].map(lambda x:x.split(','))\n",
    "df = data_fraud.explode('ViolationYear')\n",
    "df['ViolationYear'] = df['ViolationYear'].map(lambda x:x.split(';'))\n",
    "df = df.explode('ViolationYear')\n",
    "df['ViolationYear'].value_counts().plot.bar()\n",
    "\n",
    "\n",
    "# 将字符串转换为时间\n",
    "df['ViolationYear'] = df['ViolationYear'].map(lambda x: pd.to_datetime(x).year)\n",
    "# 按年份筛选\n",
    "df = df[(df['ViolationYear'] < 2020) & (df['ViolationYear'] > 2010)]\n",
    "df['ViolationYear'].value_counts().plot.bar()\n",
    "df['Symbol'].value_counts()"
   ]
  },
  {
   "cell_type": "code",
   "execution_count": 27,
   "metadata": {},
   "outputs": [
    {
     "data": {
      "text/html": [
       "<div>\n",
       "<style scoped>\n",
       "    .dataframe tbody tr th:only-of-type {\n",
       "        vertical-align: middle;\n",
       "    }\n",
       "\n",
       "    .dataframe tbody tr th {\n",
       "        vertical-align: top;\n",
       "    }\n",
       "\n",
       "    .dataframe thead th {\n",
       "        text-align: right;\n",
       "    }\n",
       "</style>\n",
       "<table border=\"1\" class=\"dataframe\">\n",
       "  <thead>\n",
       "    <tr style=\"text-align: right;\">\n",
       "      <th></th>\n",
       "      <th>Symbol</th>\n",
       "      <th>ViolationYear</th>\n",
       "      <th>DeclareDate</th>\n",
       "      <th>fraud</th>\n",
       "    </tr>\n",
       "  </thead>\n",
       "  <tbody>\n",
       "    <tr>\n",
       "      <th>12311</th>\n",
       "      <td>600610</td>\n",
       "      <td>2015</td>\n",
       "      <td>2018-01-06</td>\n",
       "      <td>1</td>\n",
       "    </tr>\n",
       "    <tr>\n",
       "      <th>12315</th>\n",
       "      <td>600610</td>\n",
       "      <td>2018</td>\n",
       "      <td>2019-01-24</td>\n",
       "      <td>1</td>\n",
       "    </tr>\n",
       "    <tr>\n",
       "      <th>12315</th>\n",
       "      <td>600610</td>\n",
       "      <td>2019</td>\n",
       "      <td>2019-01-24</td>\n",
       "      <td>1</td>\n",
       "    </tr>\n",
       "    <tr>\n",
       "      <th>12323</th>\n",
       "      <td>600610</td>\n",
       "      <td>2016</td>\n",
       "      <td>2020-02-26</td>\n",
       "      <td>1</td>\n",
       "    </tr>\n",
       "  </tbody>\n",
       "</table>\n",
       "</div>"
      ],
      "text/plain": [
       "       Symbol  ViolationYear DeclareDate  fraud\n",
       "12311  600610           2015  2018-01-06      1\n",
       "12315  600610           2018  2019-01-24      1\n",
       "12315  600610           2019  2019-01-24      1\n",
       "12323  600610           2016  2020-02-26      1"
      ]
     },
     "execution_count": 27,
     "metadata": {},
     "output_type": "execute_result"
    }
   ],
   "source": [
    "# 剔除年份相同的\n",
    "from tkinter.tix import Tree\n",
    "\n",
    "\n",
    "df[df['Symbol'] == '600610']\n",
    "df.drop_duplicates(['Symbol', 'ViolationYear'], inplace=True)\n",
    "df[df['Symbol'] == '600610']"
   ]
  },
  {
   "cell_type": "code",
   "execution_count": 24,
   "metadata": {},
   "outputs": [
    {
     "data": {
      "text/plain": [
       "12308              2001\n",
       "12309         2015,2016\n",
       "12310         2016,2017\n",
       "12311              2015\n",
       "12312              2015\n",
       "12313              2015\n",
       "12314    2015,2017,2018\n",
       "12315         2018,2019\n",
       "12316              2018\n",
       "12317              2018\n",
       "12318              2018\n",
       "12319              2019\n",
       "12320         2018,2019\n",
       "12321              2019\n",
       "12322         2016,2017\n",
       "12323              2016\n",
       "12324              2016\n",
       "12325              2016\n",
       "12328         2016,2017\n",
       "12329              2019\n",
       "12330              2019\n",
       "12332              2016\n",
       "12334              2017\n",
       "Name: ViolationYear, dtype: object"
      ]
     },
     "execution_count": 24,
     "metadata": {},
     "output_type": "execute_result"
    }
   ],
   "source": [
    "data[data['Symbol'] == '600610']['ViolationYear']"
   ]
  },
  {
   "cell_type": "code",
   "execution_count": 17,
   "metadata": {},
   "outputs": [],
   "source": [
    "# 连接资产负债表 data2\n",
    "data2 = pd.read_csv('C:/Users/赵豪杰/Desktop/lw/data/资产负债表160133267/FS_Combas.csv', error_bad_lines=False)\n",
    "data2.columns[:15]\n",
    "data2['Accper'] = data2['Accper'].map(lambda x: pd.to_datetime(x).year)\n",
    "data2 = data2[(data2['Accper'] > 2010) & (data2['Accper'] < 2020)]\n",
    "# df.dtypes 查看类型\n",
    "df['Symbol'] = df['Symbol'].astype(int)\n"
   ]
  },
  {
   "cell_type": "code",
   "execution_count": 31,
   "metadata": {},
   "outputs": [
    {
     "data": {
      "text/plain": [
       "Symbol  ViolationYear\n",
       "409     2018             50\n",
       "600680  2014             50\n",
       "2259    2019             50\n",
       "635     2017             50\n",
       "600610  2019             50\n",
       "                         ..\n",
       "603856  2017              4\n",
       "300372  2013              4\n",
       "601375  2016              4\n",
       "300321  2012              4\n",
       "870436  2017              4\n",
       "Length: 1534, dtype: int64"
      ]
     },
     "execution_count": 31,
     "metadata": {},
     "output_type": "execute_result"
    }
   ],
   "source": [
    "data_all = pd.merge(df, data2, left_on=['Symbol', 'ViolationYear'], right_on=['Stkcd', 'Accper'], how='inner')\n",
    "data_all[['Symbol', 'ViolationYear']].value_counts()"
   ]
  },
  {
   "cell_type": "code",
   "execution_count": 36,
   "metadata": {},
   "outputs": [
    {
     "data": {
      "text/plain": [
       "<AxesSubplot:>"
      ]
     },
     "execution_count": 36,
     "metadata": {},
     "output_type": "execute_result"
    },
    {
     "data": {
      "image/png": "[encoded data removed]",
      "text/plain": [
       "<Figure size 432x288 with 1 Axes>"
      ]
     },
     "metadata": {
      "needs_background": "light"
     },
     "output_type": "display_data"
    }
   ],
   "source": [
    "pd.DataFrame(data_all.drop_duplicates().isna().sum()).plot.bar()"
   ]
  },
  {
   "cell_type": "code",
   "execution_count": 39,
   "metadata": {},
   "outputs": [
    {
     "data": {
      "text/plain": [
       "<AxesSubplot:>"
      ]
     },
     "execution_count": 39,
     "metadata": {},
     "output_type": "execute_result"
    },
    {
     "data": {
      "image/png": "[encoded data removed]",
      "text/plain": [
       "<Figure size 432x288 with 1 Axes>"
      ]
     },
     "metadata": {
      "needs_background": "light"
     },
     "output_type": "display_data"
    }
   ],
   "source": [
    "pd.DataFrame(data2.drop_duplicates().isna().sum()).plot.bar()"
   ]
  },
  {
   "cell_type": "code",
   "execution_count": 40,
   "metadata": {},
   "outputs": [
    {
     "data": {
      "text/plain": [
       "37449474"
      ]
     },
     "execution_count": 40,
     "metadata": {},
     "output_type": "execute_result"
    }
   ],
   "source": [
    "data2.size"
   ]
  },
  {
   "cell_type": "code",
   "execution_count": 43,
   "metadata": {},
   "outputs": [
    {
     "data": {
      "text/html": [
       "<div>\n",
       "<style scoped>\n",
       "    .dataframe tbody tr th:only-of-type {\n",
       "        vertical-align: middle;\n",
       "    }\n",
       "\n",
       "    .dataframe tbody tr th {\n",
       "        vertical-align: top;\n",
       "    }\n",
       "\n",
       "    .dataframe thead th {\n",
       "        text-align: right;\n",
       "    }\n",
       "</style>\n",
       "<table border=\"1\" class=\"dataframe\">\n",
       "  <thead>\n",
       "    <tr style=\"text-align: right;\">\n",
       "      <th></th>\n",
       "      <th>Symbol</th>\n",
       "      <th>ViolationYear</th>\n",
       "      <th>DeclareDate</th>\n",
       "      <th>fraud</th>\n",
       "    </tr>\n",
       "  </thead>\n",
       "  <tbody>\n",
       "    <tr>\n",
       "      <th>0</th>\n",
       "      <td>2</td>\n",
       "      <td>2015</td>\n",
       "      <td>2016-07-21</td>\n",
       "      <td>1</td>\n",
       "    </tr>\n",
       "    <tr>\n",
       "      <th>0</th>\n",
       "      <td>2</td>\n",
       "      <td>2016</td>\n",
       "      <td>2016-07-21</td>\n",
       "      <td>1</td>\n",
       "    </tr>\n",
       "    <tr>\n",
       "      <th>8</th>\n",
       "      <td>4</td>\n",
       "      <td>2014</td>\n",
       "      <td>2018-08-16</td>\n",
       "      <td>1</td>\n",
       "    </tr>\n",
       "    <tr>\n",
       "      <th>8</th>\n",
       "      <td>4</td>\n",
       "      <td>2015</td>\n",
       "      <td>2018-08-16</td>\n",
       "      <td>1</td>\n",
       "    </tr>\n",
       "    <tr>\n",
       "      <th>8</th>\n",
       "      <td>4</td>\n",
       "      <td>2016</td>\n",
       "      <td>2018-08-16</td>\n",
       "      <td>1</td>\n",
       "    </tr>\n",
       "    <tr>\n",
       "      <th>...</th>\n",
       "      <td>...</td>\n",
       "      <td>...</td>\n",
       "      <td>...</td>\n",
       "      <td>...</td>\n",
       "    </tr>\n",
       "    <tr>\n",
       "      <th>15198</th>\n",
       "      <td>688015</td>\n",
       "      <td>2019</td>\n",
       "      <td>2020-11-18</td>\n",
       "      <td>1</td>\n",
       "    </tr>\n",
       "    <tr>\n",
       "      <th>15203</th>\n",
       "      <td>688030</td>\n",
       "      <td>2019</td>\n",
       "      <td>2020-11-04</td>\n",
       "      <td>1</td>\n",
       "    </tr>\n",
       "    <tr>\n",
       "      <th>15229</th>\n",
       "      <td>688135</td>\n",
       "      <td>2016</td>\n",
       "      <td>2021-08-12</td>\n",
       "      <td>1</td>\n",
       "    </tr>\n",
       "    <tr>\n",
       "      <th>15244</th>\n",
       "      <td>688188</td>\n",
       "      <td>2019</td>\n",
       "      <td>2021-03-11</td>\n",
       "      <td>1</td>\n",
       "    </tr>\n",
       "    <tr>\n",
       "      <th>15323</th>\n",
       "      <td>870436</td>\n",
       "      <td>2017</td>\n",
       "      <td>2019-04-23</td>\n",
       "      <td>1</td>\n",
       "    </tr>\n",
       "  </tbody>\n",
       "</table>\n",
       "<p>1935 rows × 4 columns</p>\n",
       "</div>"
      ],
      "text/plain": [
       "       Symbol  ViolationYear DeclareDate  fraud\n",
       "0           2           2015  2016-07-21      1\n",
       "0           2           2016  2016-07-21      1\n",
       "8           4           2014  2018-08-16      1\n",
       "8           4           2015  2018-08-16      1\n",
       "8           4           2016  2018-08-16      1\n",
       "...       ...            ...         ...    ...\n",
       "15198  688015           2019  2020-11-18      1\n",
       "15203  688030           2019  2020-11-04      1\n",
       "15229  688135           2016  2021-08-12      1\n",
       "15244  688188           2019  2021-03-11      1\n",
       "15323  870436           2017  2019-04-23      1\n",
       "\n",
       "[1935 rows x 4 columns]"
      ]
     },
     "execution_count": 43,
     "metadata": {},
     "output_type": "execute_result"
    }
   ],
   "source": [
    "df"
   ]
  },
  {
   "cell_type": "code",
   "execution_count": 46,
   "metadata": {},
   "outputs": [
    {
     "data": {
      "text/html": [
       "<div>\n",
       "<style scoped>\n",
       "    .dataframe tbody tr th:only-of-type {\n",
       "        vertical-align: middle;\n",
       "    }\n",
       "\n",
       "    .dataframe tbody tr th {\n",
       "        vertical-align: top;\n",
       "    }\n",
       "\n",
       "    .dataframe thead th {\n",
       "        text-align: right;\n",
       "    }\n",
       "</style>\n",
       "<table border=\"1\" class=\"dataframe\">\n",
       "  <thead>\n",
       "    <tr style=\"text-align: right;\">\n",
       "      <th></th>\n",
       "      <th>Stkcd</th>\n",
       "      <th>Accper</th>\n",
       "      <th>Typrep</th>\n",
       "      <th>A001101000</th>\n",
       "      <th>A0d1101101</th>\n",
       "      <th>A0d1102000</th>\n",
       "      <th>A0d1102101</th>\n",
       "      <th>A0b1103000</th>\n",
       "      <th>A0b1104000</th>\n",
       "      <th>A0b1105000</th>\n",
       "      <th>...</th>\n",
       "      <th>A004000000</th>\n",
       "      <th>A001127000</th>\n",
       "      <th>A001128000</th>\n",
       "      <th>A001226000</th>\n",
       "      <th>A001227000</th>\n",
       "      <th>A001228000</th>\n",
       "      <th>A001229000</th>\n",
       "      <th>A002128000</th>\n",
       "      <th>A001230000</th>\n",
       "      <th>A002211000</th>\n",
       "    </tr>\n",
       "  </thead>\n",
       "  <tbody>\n",
       "    <tr>\n",
       "      <th>68</th>\n",
       "      <td>1</td>\n",
       "      <td>2011</td>\n",
       "      <td>B</td>\n",
       "      <td>NaN</td>\n",
       "      <td>NaN</td>\n",
       "      <td>NaN</td>\n",
       "      <td>NaN</td>\n",
       "      <td>7.658686e+10</td>\n",
       "      <td>8.523729e+09</td>\n",
       "      <td>2000.0</td>\n",
       "      <td>...</td>\n",
       "      <td>7.272071e+11</td>\n",
       "      <td>NaN</td>\n",
       "      <td>NaN</td>\n",
       "      <td>NaN</td>\n",
       "      <td>NaN</td>\n",
       "      <td>NaN</td>\n",
       "      <td>NaN</td>\n",
       "      <td>NaN</td>\n",
       "      <td>NaN</td>\n",
       "      <td>NaN</td>\n",
       "    </tr>\n",
       "    <tr>\n",
       "      <th>69</th>\n",
       "      <td>1</td>\n",
       "      <td>2011</td>\n",
       "      <td>A</td>\n",
       "      <td>0.00</td>\n",
       "      <td>NaN</td>\n",
       "      <td>0.0</td>\n",
       "      <td>NaN</td>\n",
       "      <td>7.658686e+10</td>\n",
       "      <td>8.523729e+09</td>\n",
       "      <td>2000.0</td>\n",
       "      <td>...</td>\n",
       "      <td>7.272071e+11</td>\n",
       "      <td>NaN</td>\n",
       "      <td>NaN</td>\n",
       "      <td>NaN</td>\n",
       "      <td>NaN</td>\n",
       "      <td>NaN</td>\n",
       "      <td>NaN</td>\n",
       "      <td>NaN</td>\n",
       "      <td>NaN</td>\n",
       "      <td>NaN</td>\n",
       "    </tr>\n",
       "    <tr>\n",
       "      <th>70</th>\n",
       "      <td>1</td>\n",
       "      <td>2011</td>\n",
       "      <td>A</td>\n",
       "      <td>0.00</td>\n",
       "      <td>NaN</td>\n",
       "      <td>0.0</td>\n",
       "      <td>NaN</td>\n",
       "      <td>7.933548e+10</td>\n",
       "      <td>1.518595e+10</td>\n",
       "      <td>2000.0</td>\n",
       "      <td>...</td>\n",
       "      <td>8.075634e+11</td>\n",
       "      <td>NaN</td>\n",
       "      <td>NaN</td>\n",
       "      <td>NaN</td>\n",
       "      <td>NaN</td>\n",
       "      <td>NaN</td>\n",
       "      <td>NaN</td>\n",
       "      <td>NaN</td>\n",
       "      <td>NaN</td>\n",
       "      <td>NaN</td>\n",
       "    </tr>\n",
       "    <tr>\n",
       "      <th>71</th>\n",
       "      <td>1</td>\n",
       "      <td>2011</td>\n",
       "      <td>A</td>\n",
       "      <td>0.00</td>\n",
       "      <td>NaN</td>\n",
       "      <td>0.0</td>\n",
       "      <td>NaN</td>\n",
       "      <td>9.549160e+10</td>\n",
       "      <td>1.905280e+10</td>\n",
       "      <td>2000.0</td>\n",
       "      <td>...</td>\n",
       "      <td>8.520570e+11</td>\n",
       "      <td>NaN</td>\n",
       "      <td>NaN</td>\n",
       "      <td>NaN</td>\n",
       "      <td>NaN</td>\n",
       "      <td>NaN</td>\n",
       "      <td>NaN</td>\n",
       "      <td>NaN</td>\n",
       "      <td>NaN</td>\n",
       "      <td>NaN</td>\n",
       "    </tr>\n",
       "    <tr>\n",
       "      <th>72</th>\n",
       "      <td>1</td>\n",
       "      <td>2011</td>\n",
       "      <td>B</td>\n",
       "      <td>NaN</td>\n",
       "      <td>NaN</td>\n",
       "      <td>NaN</td>\n",
       "      <td>0.0</td>\n",
       "      <td>9.932419e+10</td>\n",
       "      <td>1.841786e+10</td>\n",
       "      <td>NaN</td>\n",
       "      <td>...</td>\n",
       "      <td>9.304591e+11</td>\n",
       "      <td>NaN</td>\n",
       "      <td>NaN</td>\n",
       "      <td>NaN</td>\n",
       "      <td>NaN</td>\n",
       "      <td>NaN</td>\n",
       "      <td>NaN</td>\n",
       "      <td>NaN</td>\n",
       "      <td>NaN</td>\n",
       "      <td>NaN</td>\n",
       "    </tr>\n",
       "    <tr>\n",
       "      <th>...</th>\n",
       "      <td>...</td>\n",
       "      <td>...</td>\n",
       "      <td>...</td>\n",
       "      <td>...</td>\n",
       "      <td>...</td>\n",
       "      <td>...</td>\n",
       "      <td>...</td>\n",
       "      <td>...</td>\n",
       "      <td>...</td>\n",
       "      <td>...</td>\n",
       "      <td>...</td>\n",
       "      <td>...</td>\n",
       "      <td>...</td>\n",
       "      <td>...</td>\n",
       "      <td>...</td>\n",
       "      <td>...</td>\n",
       "      <td>...</td>\n",
       "      <td>...</td>\n",
       "      <td>...</td>\n",
       "      <td>...</td>\n",
       "      <td>...</td>\n",
       "    </tr>\n",
       "    <tr>\n",
       "      <th>517000</th>\n",
       "      <td>900957</td>\n",
       "      <td>2019</td>\n",
       "      <td>A</td>\n",
       "      <td>7151661.26</td>\n",
       "      <td>NaN</td>\n",
       "      <td>NaN</td>\n",
       "      <td>NaN</td>\n",
       "      <td>NaN</td>\n",
       "      <td>NaN</td>\n",
       "      <td>NaN</td>\n",
       "      <td>...</td>\n",
       "      <td>1.012974e+09</td>\n",
       "      <td>NaN</td>\n",
       "      <td>NaN</td>\n",
       "      <td>NaN</td>\n",
       "      <td>NaN</td>\n",
       "      <td>NaN</td>\n",
       "      <td>NaN</td>\n",
       "      <td>NaN</td>\n",
       "      <td>NaN</td>\n",
       "      <td>NaN</td>\n",
       "    </tr>\n",
       "    <tr>\n",
       "      <th>517001</th>\n",
       "      <td>900957</td>\n",
       "      <td>2019</td>\n",
       "      <td>B</td>\n",
       "      <td>816290.53</td>\n",
       "      <td>NaN</td>\n",
       "      <td>NaN</td>\n",
       "      <td>NaN</td>\n",
       "      <td>NaN</td>\n",
       "      <td>NaN</td>\n",
       "      <td>NaN</td>\n",
       "      <td>...</td>\n",
       "      <td>5.496483e+08</td>\n",
       "      <td>NaN</td>\n",
       "      <td>NaN</td>\n",
       "      <td>NaN</td>\n",
       "      <td>NaN</td>\n",
       "      <td>NaN</td>\n",
       "      <td>NaN</td>\n",
       "      <td>NaN</td>\n",
       "      <td>NaN</td>\n",
       "      <td>NaN</td>\n",
       "    </tr>\n",
       "    <tr>\n",
       "      <th>517002</th>\n",
       "      <td>900957</td>\n",
       "      <td>2019</td>\n",
       "      <td>A</td>\n",
       "      <td>26526091.24</td>\n",
       "      <td>NaN</td>\n",
       "      <td>NaN</td>\n",
       "      <td>NaN</td>\n",
       "      <td>NaN</td>\n",
       "      <td>NaN</td>\n",
       "      <td>NaN</td>\n",
       "      <td>...</td>\n",
       "      <td>1.017417e+09</td>\n",
       "      <td>NaN</td>\n",
       "      <td>NaN</td>\n",
       "      <td>NaN</td>\n",
       "      <td>NaN</td>\n",
       "      <td>NaN</td>\n",
       "      <td>NaN</td>\n",
       "      <td>NaN</td>\n",
       "      <td>NaN</td>\n",
       "      <td>NaN</td>\n",
       "    </tr>\n",
       "    <tr>\n",
       "      <th>517003</th>\n",
       "      <td>900957</td>\n",
       "      <td>2019</td>\n",
       "      <td>B</td>\n",
       "      <td>660393.48</td>\n",
       "      <td>NaN</td>\n",
       "      <td>NaN</td>\n",
       "      <td>NaN</td>\n",
       "      <td>NaN</td>\n",
       "      <td>NaN</td>\n",
       "      <td>NaN</td>\n",
       "      <td>...</td>\n",
       "      <td>5.549938e+08</td>\n",
       "      <td>NaN</td>\n",
       "      <td>NaN</td>\n",
       "      <td>NaN</td>\n",
       "      <td>NaN</td>\n",
       "      <td>NaN</td>\n",
       "      <td>NaN</td>\n",
       "      <td>NaN</td>\n",
       "      <td>NaN</td>\n",
       "      <td>NaN</td>\n",
       "    </tr>\n",
       "    <tr>\n",
       "      <th>517004</th>\n",
       "      <td>900957</td>\n",
       "      <td>2019</td>\n",
       "      <td>A</td>\n",
       "      <td>36087804.56</td>\n",
       "      <td>NaN</td>\n",
       "      <td>NaN</td>\n",
       "      <td>NaN</td>\n",
       "      <td>NaN</td>\n",
       "      <td>NaN</td>\n",
       "      <td>NaN</td>\n",
       "      <td>...</td>\n",
       "      <td>1.017715e+09</td>\n",
       "      <td>7800000.0</td>\n",
       "      <td>NaN</td>\n",
       "      <td>NaN</td>\n",
       "      <td>NaN</td>\n",
       "      <td>NaN</td>\n",
       "      <td>NaN</td>\n",
       "      <td>NaN</td>\n",
       "      <td>NaN</td>\n",
       "      <td>NaN</td>\n",
       "    </tr>\n",
       "  </tbody>\n",
       "</table>\n",
       "<p>271373 rows × 138 columns</p>\n",
       "</div>"
      ],
      "text/plain": [
       "         Stkcd  Accper Typrep   A001101000  A0d1101101  A0d1102000  \\\n",
       "68           1    2011      B          NaN         NaN         NaN   \n",
       "69           1    2011      A         0.00         NaN         0.0   \n",
       "70           1    2011      A         0.00         NaN         0.0   \n",
       "71           1    2011      A         0.00         NaN         0.0   \n",
       "72           1    2011      B          NaN         NaN         NaN   \n",
       "...        ...     ...    ...          ...         ...         ...   \n",
       "517000  900957    2019      A   7151661.26         NaN         NaN   \n",
       "517001  900957    2019      B    816290.53         NaN         NaN   \n",
       "517002  900957    2019      A  26526091.24         NaN         NaN   \n",
       "517003  900957    2019      B    660393.48         NaN         NaN   \n",
       "517004  900957    2019      A  36087804.56         NaN         NaN   \n",
       "\n",
       "        A0d1102101    A0b1103000    A0b1104000  A0b1105000  ...    A004000000  \\\n",
       "68             NaN  7.658686e+10  8.523729e+09      2000.0  ...  7.272071e+11   \n",
       "69             NaN  7.658686e+10  8.523729e+09      2000.0  ...  7.272071e+11   \n",
       "70             NaN  7.933548e+10  1.518595e+10      2000.0  ...  8.075634e+11   \n",
       "71             NaN  9.549160e+10  1.905280e+10      2000.0  ...  8.520570e+11   \n",
       "72             0.0  9.932419e+10  1.841786e+10         NaN  ...  9.304591e+11   \n",
       "...            ...           ...           ...         ...  ...           ...   \n",
       "517000         NaN           NaN           NaN         NaN  ...  1.012974e+09   \n",
       "517001         NaN           NaN           NaN         NaN  ...  5.496483e+08   \n",
       "517002         NaN           NaN           NaN         NaN  ...  1.017417e+09   \n",
       "517003         NaN           NaN           NaN         NaN  ...  5.549938e+08   \n",
       "517004         NaN           NaN           NaN         NaN  ...  1.017715e+09   \n",
       "\n",
       "        A001127000  A001128000  A001226000  A001227000  A001228000  \\\n",
       "68             NaN         NaN         NaN         NaN         NaN   \n",
       "69             NaN         NaN         NaN         NaN         NaN   \n",
       "70             NaN         NaN         NaN         NaN         NaN   \n",
       "71             NaN         NaN         NaN         NaN         NaN   \n",
       "72             NaN         NaN         NaN         NaN         NaN   \n",
       "...            ...         ...         ...         ...         ...   \n",
       "517000         NaN         NaN         NaN         NaN         NaN   \n",
       "517001         NaN         NaN         NaN         NaN         NaN   \n",
       "517002         NaN         NaN         NaN         NaN         NaN   \n",
       "517003         NaN         NaN         NaN         NaN         NaN   \n",
       "517004   7800000.0         NaN         NaN         NaN         NaN   \n",
       "\n",
       "        A001229000  A002128000  A001230000  A002211000  \n",
       "68             NaN         NaN         NaN         NaN  \n",
       "69             NaN         NaN         NaN         NaN  \n",
       "70             NaN         NaN         NaN         NaN  \n",
       "71             NaN         NaN         NaN         NaN  \n",
       "72             NaN         NaN         NaN         NaN  \n",
       "...            ...         ...         ...         ...  \n",
       "517000         NaN         NaN         NaN         NaN  \n",
       "517001         NaN         NaN         NaN         NaN  \n",
       "517002         NaN         NaN         NaN         NaN  \n",
       "517003         NaN         NaN         NaN         NaN  \n",
       "517004         NaN         NaN         NaN         NaN  \n",
       "\n",
       "[271373 rows x 138 columns]"
      ]
     },
     "execution_count": 46,
     "metadata": {},
     "output_type": "execute_result"
    }
   ],
   "source": [
    "data2"
   ]
  }
 ],
 "metadata": {
  "kernelspec": {
   "display_name": "Python 3.7.0 64-bit (system)",
   "language": "python",
   "name": "python3"
  },
  "language_info": {
   "codemirror_mode": {
    "name": "ipython",
    "version": 3
   },
   "file_extension": ".py",
   "mimetype": "text/x-python",
   "name": "python",
   "nbconvert_exporter": "python",
   "pygments_lexer": "ipython3",
   "version": "3.7.0"
  },
  "orig_nbformat": 4,
  "vscode": {
   "interpreter": {
    "hash": "58755db9cd52609d476253c23da992f5ae87e7196dc9004e57ea390e09bbc3ec"
   }
  }
 },
 "nbformat": 4,
 "nbformat_minor": 2
}

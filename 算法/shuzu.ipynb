{
 "cells": [
  {
   "cell_type": "code",
   "execution_count": 9,
   "metadata": {},
   "outputs": [
    {
     "name": "stdout",
     "output_type": "stream",
     "text": [
      "[14, 20, 21, 2, 8]\n",
      "[9, 15, 16, 22, 3]\n",
      "[4, 10, 11, 17, 23]\n",
      "[24, 5, 6, 12, 18]\n",
      "[19, 25, 1, 7, 13]\n"
     ]
    }
   ],
   "source": [
    "def create_magic(n):\n",
    "    '''\n",
    "    n限定为奇数，九宫格\n",
    "    '''\n",
    "    magic = [[0]*n for _ in range(n)]\n",
    "    row = n-1\n",
    "    column = n // 2\n",
    "    magic[row][column] = 1\n",
    "    for i in range(2, n*n+1):\n",
    "        row = (row+1) % n\n",
    "        column = (column+1) % n\n",
    "        if magic[row][column] == 0:\n",
    "            magic[row][column] = i\n",
    "        else:\n",
    "            row = row - 1\n",
    "            magic[row][column] = i\n",
    "    return magic\n",
    "\n",
    "n = 5\n",
    "m = create_magic(n)\n",
    "for i in range(n):\n",
    "    print(m[i], end='\\n')"
   ]
  },
  {
   "cell_type": "code",
   "execution_count": 15,
   "metadata": {},
   "outputs": [
    {
     "name": "stdout",
     "output_type": "stream",
     "text": [
      "[20, 15, 10, 5, 0]  \n",
      "[21, 16, 11, 6, 1]  \n",
      "[22, 17, 12, 7, 2]  \n",
      "[23, 18, 13, 8, 3]  \n",
      "[24, 19, 14, 9, 4]  \n"
     ]
    }
   ],
   "source": [
    "matrix = [[i*5+j for j in range(5)] for i in range(5)]\n",
    "\n",
    "def rotate_matrix(M):\n",
    "    '''\n",
    "    将一个矩阵旋转90度\n",
    "    '''\n",
    "    l = len(M)\n",
    "    new = [[0]*l for _ in range(l)]\n",
    "    for i in range(l):\n",
    "        for j in range(l):\n",
    "            new[j][n-1-i] = M[i][j]\n",
    "    \n",
    "    for i in range(l):\n",
    "        print(new[i], \" \")\n",
    "\n",
    "rotate_matrix(matrix)"
   ]
  },
  {
   "cell_type": "code",
   "execution_count": 18,
   "metadata": {},
   "outputs": [
    {
     "name": "stdout",
     "output_type": "stream",
     "text": [
      "g f e d c b a\n"
     ]
    }
   ],
   "source": [
    "# 反转字符串\n",
    "def reverse(s):\n",
    "    return s[::-1]\n",
    "\n",
    "def reverse2(s):\n",
    "    s = list(s)\n",
    "    l = len(s)\n",
    "    for i in range(l//2):\n",
    "        s[i], s[l-1-i] = s[l-1-i], s[i]\n",
    "    s = \" \".join(s)\n",
    "    print(s)\n",
    "\n",
    "s = \"abcdefg\"\n",
    "reverse2(s)"
   ]
  },
  {
   "cell_type": "code",
   "execution_count": 35,
   "metadata": {},
   "outputs": [
    {
     "name": "stdout",
     "output_type": "stream",
     "text": [
      "1\n",
      "1\n"
     ]
    },
    {
     "data": {
      "text/plain": [
       "(None, None)"
      ]
     },
     "execution_count": 35,
     "metadata": {},
     "output_type": "execute_result"
    }
   ],
   "source": [
    "# 求最长连续子串 0 1 交错，找出最长全是1的子串\n",
    "s = [1, 0, 0]\n",
    "def find_longest(s):\n",
    "    maxl = 0\n",
    "    l = len(s)\n",
    "    i = 0 \n",
    "    while(i<l):\n",
    "        if s[i] == 1:\n",
    "            ml = 1\n",
    "            if ml > maxl:\n",
    "                maxl = ml\n",
    "            j = i+1\n",
    "            if j > l-1:\n",
    "                break\n",
    "            while(s[j] == 1):\n",
    "                ml += 1\n",
    "                if ml > maxl:\n",
    "                    maxl = ml\n",
    "                j += 1\n",
    "            i = j+1\n",
    "        i = i + 1\n",
    "    print(maxl)\n",
    "\n",
    "\n",
    "# 重置法\n",
    "def find_consecutive_ones(nums):\n",
    "    local = maxl = 0\n",
    "    for i in nums:\n",
    "        local = local + 1 if i == 1 else 0\n",
    "        maxl = max(local, maxl)\n",
    "    print(maxl)\n",
    "     \n",
    "\n",
    "\n",
    "find_consecutive_ones(s), find_longest(s) \n",
    "            \n",
    "                \n"
   ]
  },
  {
   "cell_type": "code",
   "execution_count": 44,
   "metadata": {},
   "outputs": [
    {
     "data": {
      "text/plain": [
       "-1"
      ]
     },
     "execution_count": 44,
     "metadata": {},
     "output_type": "execute_result"
    }
   ],
   "source": [
    "# 最大数，数组中有且仅有一个最大数，判断该数是不是其他数的两倍或更大，若存在则返回index，否则返回-1\n",
    "# 不需要该数和其他数都比较，只需要和第二大的比较，则可返回index\n",
    "\n",
    "def largest_twice(nums):\n",
    "     '''\n",
    "     不需要排序，只需要找到第一大和第二大的数即可\n",
    "     '''\n",
    "     first = secend = inx = 0\n",
    "     for i in range(len(nums)):\n",
    "        if nums[i] > secend:\n",
    "            if nums[i] > first:\n",
    "                first, secend = nums[i], first\n",
    "                inx = i\n",
    "            else:\n",
    "                secend = nums[i]\n",
    "     if first/secend > 2:\n",
    "        return inx\n",
    "     else: return -1\n",
    "\n",
    "nums = [1, 2, 3, 8, 6, 2, 1]\n",
    "result = largest_twice(nums)\n",
    "result"
   ]
  },
  {
   "cell_type": "code",
   "execution_count": 54,
   "metadata": {},
   "outputs": [
    {
     "data": {
      "text/plain": [
       "[11, 100]"
      ]
     },
     "execution_count": 54,
     "metadata": {},
     "output_type": "execute_result"
    }
   ],
   "source": [
    "# classic\n",
    "# 1-n个数字中有某些数字未出现，有些出现了多次，找出未出现的数字\n",
    "# O^2\n",
    "nums = [i for i in range(100)]\n",
    "nums[10] = 1\n",
    "nums[99] = 4\n",
    "cache = {}\n",
    "def find_dup(nums):\n",
    "    result = []\n",
    "    for i in nums:\n",
    "        if nums[i] < 0 :\n",
    "            pass\n",
    "        else:\n",
    "            nums[i] = -nums[i]\n",
    "\n",
    "    return [i+1  for i in range(len(nums)) if nums[i] > 0]\n",
    "\n",
    "i = find_dup(nums)\n",
    "i\n"
   ]
  },
  {
   "cell_type": "code",
   "execution_count": 66,
   "metadata": {},
   "outputs": [
    {
     "data": {
      "text/plain": [
       "124"
      ]
     },
     "execution_count": 66,
     "metadata": {},
     "output_type": "execute_result"
    }
   ],
   "source": [
    "digits = [1, 2, 3]\n",
    "def plus_one(digits):\n",
    "    l = len(digits)\n",
    "    num = 0\n",
    "    for i in range(l):\n",
    "        num += digits[i] * (10**(l - i - 1))\n",
    "    return num + 1\n",
    "plus_one(digits)"
   ]
  }
 ],
 "metadata": {
  "kernelspec": {
   "display_name": "Python 3.7.0 64-bit (system)",
   "language": "python",
   "name": "python3"
  },
  "language_info": {
   "codemirror_mode": {
    "name": "ipython",
    "version": 3
   },
   "file_extension": ".py",
   "mimetype": "text/x-python",
   "name": "python",
   "nbconvert_exporter": "python",
   "pygments_lexer": "ipython3",
   "version": "3.7.0"
  },
  "orig_nbformat": 4,
  "vscode": {
   "interpreter": {
    "hash": "58755db9cd52609d476253c23da992f5ae87e7196dc9004e57ea390e09bbc3ec"
   }
  }
 },
 "nbformat": 4,
 "nbformat_minor": 2
}

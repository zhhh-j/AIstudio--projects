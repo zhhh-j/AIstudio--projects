{
 "cells": [
  {
   "cell_type": "code",
   "execution_count": null,
   "metadata": {},
   "outputs": [],
   "source": [
    "# 时间是O(n)\n",
    "def add(n):\n",
    "    if n==0:\n",
    "        return 0\n",
    "    else: return n+add(n-1)\n",
    "\n",
    "x = add(1500)\n",
    "x\n",
    "\n",
    "# 1.找到出口\n",
    "# 2.找函数关系\n",
    "\n",
    "# ----------------\n",
    "# 递归会重复开辟空间，O(n),Space\n",
    "# 开辟的空间是有限度的，一般在1000左右（即最多递归调用1000次）"
   ]
  },
  {
   "cell_type": "code",
   "execution_count": null,
   "metadata": {},
   "outputs": [],
   "source": [
    "# O(2^n)\n",
    "def fibonacci1(n):\n",
    "    if n <= 2:\n",
    "        return 1\n",
    "    else: return fibonacci1(n-1)+fibonacci1(n-2)\n",
    "\n",
    "global cache\n",
    "cache = {}\n",
    "def fibonacci2(n):\n",
    "    if n <= 2:\n",
    "        return 1\n",
    "    else:\n",
    "        a = cache.get(n-1, 0)\n",
    "        b = cache.get(n-2, 0)\n",
    "        if a and b:\n",
    "            return a + b\n",
    "        else:\n",
    "            a = fibonacci2(n-1)\n",
    "            b = fibonacci2(n-2)\n",
    "            cache[n-1] = a\n",
    "            cache[n-2] = b\n",
    "            return a + b\n",
    "\n",
    "# O(n)\n",
    "def fibonacci3(n):\n",
    "    a, b = 1, 1\n",
    "    for i in range(n-2):\n",
    "        a, b = a+b, a\n",
    "    return a \n",
    "\n",
    "fibonacci2(1000), fibonacci3(1000)"
   ]
  },
  {
   "cell_type": "code",
   "execution_count": null,
   "metadata": {},
   "outputs": [],
   "source": [
    "# 打印尺子\n",
    "def ruler(n):\n",
    "    if n == 1:\n",
    "        return '1'\n",
    "    else:\n",
    "        t = ruler(n-1)\n",
    "        return t  + str(n) +  t\n",
    "\n",
    "def print_line(length, label = None):\n",
    "    line = '-' * length\n",
    "    if label != None:\n",
    "        line += ' ' + label\n",
    "    print(line)\n",
    "\n",
    "def draw_ruler(n, repeat=3):\n",
    "    all = list(ruler(n-1))\n",
    "    print_line(n, label=str(0))\n",
    "    for i in range(repeat):\n",
    "        for s in all:\n",
    "            s = int(s)\n",
    "            print_line(s)\n",
    "        print_line(n, label= str(i+1))\n",
    "\n",
    "draw_ruler(2, repeat=10)\n"
   ]
  },
  {
   "cell_type": "code",
   "execution_count": 46,
   "metadata": {},
   "outputs": [
    {
     "name": "stdout",
     "output_type": "stream",
     "text": [
      "(((5 + 1) * 2 * 2 + 1) * 2 * 2 + 1)\n"
     ]
    }
   ],
   "source": [
    "# 数学表达式，给定a, b\n",
    "# b = f(a), 只能用加1和乘2两种运算\n",
    "\n",
    "def intseq(a, b):\n",
    "    if a == b:\n",
    "        return str(a)\n",
    "    elif b < 2*a:\n",
    "        return '(' + intseq(a, b-1)  + ' + 1)'\n",
    "    elif b % 2 == 1:\n",
    "        # b是奇数\n",
    "        return '(' + intseq(a, b-1)  + ' + 1)'\n",
    "    else:\n",
    "        return intseq(a, b//2) + \" * 2\"\n",
    "        \n",
    "print(intseq(5, 101))"
   ]
  },
  {
   "cell_type": "code",
   "execution_count": 59,
   "metadata": {},
   "outputs": [
    {
     "name": "stdout",
     "output_type": "stream",
     "text": [
      "from A to C\n",
      "from A to B\n",
      "from C to B\n",
      "from A to C\n",
      "from B to A\n",
      "from B to C\n",
      "from A to C\n"
     ]
    }
   ],
   "source": [
    "# 计算汉诺塔需要步数 ， 小环要放在大环上\n",
    "# L, M, R 三座塔，给出顺序\n",
    "# ???\n",
    "def tower_number(n):\n",
    "    if n == 3:\n",
    "        return 7\n",
    "    else:\n",
    "        return 2 * tower(n-1) + 1\n",
    "\n",
    "def tower(n, L, R, M):\n",
    "    if n == 1:\n",
    "        print(\"from \" + L + ' to ' + R)\n",
    "    else:\n",
    "        tower(n-1, L, M, R)\n",
    "        tower(1, L, R, M)\n",
    "        tower(n-1, M, R, L)\n",
    "n = 3\n",
    "tower(n, \"A\", \"C\", \"B\")"
   ]
  }
 ],
 "metadata": {
  "kernelspec": {
   "display_name": "Python 3.7.0 64-bit (system)",
   "language": "python",
   "name": "python3"
  },
  "language_info": {
   "codemirror_mode": {
    "name": "ipython",
    "version": 3
   },
   "file_extension": ".py",
   "mimetype": "text/x-python",
   "name": "python",
   "nbconvert_exporter": "python",
   "pygments_lexer": "ipython3",
   "version": "3.7.0"
  },
  "orig_nbformat": 4,
  "vscode": {
   "interpreter": {
    "hash": "58755db9cd52609d476253c23da992f5ae87e7196dc9004e57ea390e09bbc3ec"
   }
  }
 },
 "nbformat": 4,
 "nbformat_minor": 2
}
